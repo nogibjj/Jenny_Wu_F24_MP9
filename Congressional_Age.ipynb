{
 "cells": [
  {
   "cell_type": "markdown",
   "metadata": {
    "id": "J6sHe3lO86Tu"
   },
   "source": [
    "# Creating a Descriptive Statistic Summary Report\n",
    "The purpose of this notebook is to utilize pandas, matpoltlib.pyplot, and a library of functions as listed in lib.py to analyze and visualize a dataset."
   ]
  },
  {
   "cell_type": "code",
   "execution_count": null,
   "metadata": {
    "id": "ifAqJF7i86Tv"
   },
   "outputs": [],
   "source": [
    "# First we start by importing the functions in lib\n",
    "import pandas as pd\n",
    "import matplotlib.pyplot as plt"
   ]
  },
  {
   "cell_type": "code",
   "execution_count": null,
   "metadata": {
    "id": "lgXUEWcR-KJQ"
   },
   "outputs": [],
   "source": [
    "# Creating functions to load data\n",
    "def load_dataset(datasource):\n",
    "    dataframe = pd.read_csv(datasource)\n",
    "    return dataframe"
   ]
  },
  {
   "cell_type": "code",
   "execution_count": null,
   "metadata": {
    "id": "xsdNoiGv-fYc"
   },
   "outputs": [],
   "source": [
    "# Creating functions to pull statistical data from a specific column and from the dataset in its entirety\n",
    "def stat_update(dataframe, col):\n",
    "    desc_stats = dataframe[col].describe()\n",
    "    return desc_stats"
   ]
  },
  {
   "cell_type": "code",
   "execution_count": null,
   "metadata": {
    "colab": {
     "base_uri": "https://localhost:8080/",
     "height": 634
    },
    "id": "u6rk0iS_86Tw",
    "outputId": "5edcb9a6-be50-43a2-a4ac-d7741885542a"
   },
   "outputs": [],
   "source": [
    "# Then, we call the functions to read the data in..\n",
    "dataframe = load_dataset(\"sample_data/data_aging_congress.csv\")\n",
    "print(dataframe.sample(10))"
   ]
  },
  {
   "cell_type": "code",
   "execution_count": null,
   "metadata": {
    "colab": {
     "base_uri": "https://localhost:8080/"
    },
    "id": "_48mnm5-86Tw",
    "outputId": "d094f769-721e-47fe-b723-7ff560e9bd77"
   },
   "outputs": [],
   "source": [
    "# Calling the functions to calculate and create a table for descriptive statistics\n",
    "desc_stats = stat_update(dataframe, \"age_days\")\n",
    "print(desc_stats)"
   ]
  },
  {
   "cell_type": "code",
   "execution_count": null,
   "metadata": {
    "id": "QDdKMIJj86Tw"
   },
   "outputs": [],
   "source": [
    "# Creation of function to create (2) charts\n",
    "\n",
    "# This function creates a histogram the maps the ages of all Congressmemebers within the database\n",
    "\n",
    "\n",
    "def hist_cong_age(general_df, col):\n",
    "    \"\"\"builds a histogram for the ages of all Congressmembers\"\"\"\n",
    "\n",
    "    plt.hist(general_df[col], bins=20, edgecolor=\"black\")\n",
    "    plt.title(\"Distribution of Ages in Congress\", fontsize=16)\n",
    "    plt.xlabel(\"Age\", fontsize=14)\n",
    "    plt.ylabel(\"Frequency\", fontsize=14)\n",
    "    plt.savefig(\"output/congressional_age.png\")\n",
    "    # plt.show()\n",
    "\n",
    "\n",
    "# This function creates a histogram the maps the distribution of ages across both chambers of Congress\n",
    "def age_dist_50(general_df, desc_stats):\n",
    "    \"\"\"builds a bar graph that demonstrates distribution of age cross chambers\"\"\"\n",
    "    # Convert 'start_date' column to datetime format\n",
    "    general_df[\"start_date\"] = pd.to_datetime(general_df[\"start_date\"])\n",
    "\n",
    "    # Bin the ages into 5-year intervals\n",
    "    general_df[\"age_group\"] = pd.cut(\n",
    "        general_df[\"age_years\"], bins=range(20, 101, 5), right=False\n",
    "    )\n",
    "\n",
    "    # Group by chamber and age group to get frequency counts\n",
    "    chamber_age_group_counts = (\n",
    "        general_df.groupby([\"chamber\", \"age_group\"], observed=False)\n",
    "        .size()\n",
    "        .unstack(fill_value=0)\n",
    "    )\n",
    "    # Plot a bar graph for each chamber's age distribution (with binned ages)\n",
    "    chamber_age_group_counts.T.plot(kind=\"bar\", figsize=(12, 8), stacked=False)\n",
    "    plt.title(\"Age Distribution by Chamber in Congress (Binned)\")\n",
    "    plt.xlabel(\"Age Group (Years)\")\n",
    "    plt.ylabel(\"Frequency\")\n",
    "    plt.legend(title=\"Chamber\", bbox_to_anchor=(1.05, 1), loc=\"upper left\")\n",
    "    plt.tight_layout()\n",
    "    plt.savefig(\"output/chamber_age.png\")\n",
    "    # plt.show()"
   ]
  },
  {
   "cell_type": "code",
   "execution_count": null,
   "metadata": {
    "colab": {
     "base_uri": "https://localhost:8080/",
     "height": 1000
    },
    "id": "WZkx5UwQtJZc",
    "outputId": "95d6fc66-a2c2-48c2-a3a0-eb8185c8cfda"
   },
   "outputs": [],
   "source": [
    "# Run the functions to return the charts\n",
    "hist_cong_age(dataframe, \"age_years\")\n",
    "age_dist_50(dataframe, desc_stats)"
   ]
  },
  {
   "cell_type": "code",
   "execution_count": null,
   "metadata": {
    "colab": {
     "base_uri": "https://localhost:8080/"
    },
    "id": "CdKdCeK-DHHT",
    "outputId": "53b964d6-f21a-43a9-9bd2-35210522d2a5"
   },
   "outputs": [],
   "source": [
    "# To manipulate data, we are creating a function for data manipluation to subset data on a specific generation and will return the descriptive statistics for the dataset.\n",
    "def subset(dataframe, conditonal):\n",
    "    dataframe_gen = dataframe[dataframe[\"generation\"] == conditonal]\n",
    "    return dataframe_gen\n",
    "\n",
    "\n",
    "dataframe_gen = subset(dataframe, \"Lost\")\n",
    "print(dataframe_gen.sample(5))\n",
    "\n",
    "desc_stats = stat_update(dataframe, \"cmltv_cong\")\n",
    "print(desc_stats)"
   ]
  }
 ],
 "metadata": {
  "colab": {
   "provenance": []
  },
  "kernelspec": {
   "display_name": "base",
   "language": "python",
   "name": "python3"
  },
  "language_info": {
   "codemirror_mode": {
    "name": "ipython",
    "version": 3
   },
   "file_extension": ".py",
   "mimetype": "text/x-python",
   "name": "python",
   "nbconvert_exporter": "python",
   "pygments_lexer": "ipython3",
   "version": "3.12.2"
  }
 },
 "nbformat": 4,
 "nbformat_minor": 0
}
